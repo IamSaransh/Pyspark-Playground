{
 "cells": [
  {
   "cell_type": "code",
   "execution_count": 2,
   "id": "e93a3239",
   "metadata": {},
   "outputs": [],
   "source": [
    "from pyspark.sql import SparkSession\n",
    "import collections\n"
   ]
  },
  {
   "cell_type": "code",
   "execution_count": 40,
   "id": "a18aae51",
   "metadata": {},
   "outputs": [
    {
     "data": {
      "text/plain": [
       "[Row(value='196\\t242\\t3\\t881250949'),\n",
       " Row(value='186\\t302\\t3\\t891717742'),\n",
       " Row(value='22\\t377\\t1\\t878887116'),\n",
       " Row(value='244\\t51\\t2\\t880606923'),\n",
       " Row(value='166\\t346\\t1\\t886397596')]"
      ]
     },
     "execution_count": 40,
     "metadata": {},
     "output_type": "execute_result"
    }
   ],
   "source": [
    "spark = SparkSession.builder.appName(\"hehe\").getOrCreate()\n",
    "\n",
    "lines = spark.read.text(\"ml-100k/u.data\")\n",
    "lines.head(5)"
   ]
  },
  {
   "cell_type": "code",
   "execution_count": 41,
   "id": "e8d06bdd",
   "metadata": {},
   "outputs": [
    {
     "name": "stdout",
     "output_type": "stream",
     "text": [
      "root\n",
      " |-- value: string (nullable = true)\n",
      "\n"
     ]
    },
    {
     "name": "stderr",
     "output_type": "stream",
     "text": [
      "\r",
      "[Stage 21:>                                                         (0 + 1) / 1]\r"
     ]
    },
    {
     "name": "stdout",
     "output_type": "stream",
     "text": [
      "+-------+--------------------+\n",
      "|summary|               value|\n",
      "+-------+--------------------+\n",
      "|  count|              100000|\n",
      "|   mean|                null|\n",
      "| stddev|                null|\n",
      "|    min|  1\\t1\\t5\\t874965758|\n",
      "|    max|99\\t98\\t5\\t885679596|\n",
      "+-------+--------------------+\n",
      "\n"
     ]
    },
    {
     "name": "stderr",
     "output_type": "stream",
     "text": [
      "\r",
      "                                                                                \r"
     ]
    }
   ],
   "source": [
    "lines.printSchema()\n",
    "lines.describe().show()\n",
    "\n"
   ]
  },
  {
   "cell_type": "code",
   "execution_count": 36,
   "id": "371fad77",
   "metadata": {},
   "outputs": [],
   "source": [
    "from pyspark.sql.types import StructField, StringType, IntegerType, StructType"
   ]
  },
  {
   "cell_type": "code",
   "execution_count": 42,
   "id": "736fcbe2",
   "metadata": {},
   "outputs": [],
   "source": [
    "data_schema = [StructField('id1', IntegerType(), True),\n",
    "              StructField('id2', IntegerType(), True),\n",
    "              StructField('rating', IntegerType(), True),\n",
    "              StructField('timestamp', IntegerType(), True)]"
   ]
  },
  {
   "cell_type": "code",
   "execution_count": null,
   "id": "5e09ea83",
   "metadata": {},
   "outputs": [],
   "source": [
    "\n",
    "lines = spark.read.text(\"ml-100k/u.data\", )"
   ]
  }
 ],
 "metadata": {
  "kernelspec": {
   "display_name": "Python 3 (ipykernel)",
   "language": "python",
   "name": "python3"
  },
  "language_info": {
   "codemirror_mode": {
    "name": "ipython",
    "version": 3
   },
   "file_extension": ".py",
   "mimetype": "text/x-python",
   "name": "python",
   "nbconvert_exporter": "python",
   "pygments_lexer": "ipython3",
   "version": "3.9.12"
  }
 },
 "nbformat": 4,
 "nbformat_minor": 5
}
