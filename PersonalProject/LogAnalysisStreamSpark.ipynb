{
 "cells": [
  {
   "cell_type": "code",
   "execution_count": null,
   "metadata": {},
   "outputs": [],
   "source": [
    "from pyspark.sql import SparkSession\n",
    "import collections"
   ]
  },
  {
   "cell_type": "code",
   "execution_count": null,
   "metadata": {},
   "outputs": [],
   "source": [
    "spark = SparkSession.builder.appName(\"logAnalysis\").getOrCreate()"
   ]
  },
  {
   "cell_type": "code",
   "execution_count": 44,
   "metadata": {},
   "outputs": [
    {
     "ename": "TypeError",
     "evalue": "text() got an unexpected keyword argument 'maxFileAge'",
     "output_type": "error",
     "traceback": [
      "\u001b[0;31m---------------------------------------------------------------------------\u001b[0m",
      "\u001b[0;31mTypeError\u001b[0m                                 Traceback (most recent call last)",
      "Input \u001b[0;32mIn [44]\u001b[0m, in \u001b[0;36m<cell line: 1>\u001b[0;34m()\u001b[0m\n\u001b[0;32m----> 1\u001b[0m lines \u001b[38;5;241m=\u001b[39m \u001b[43mspark\u001b[49m\u001b[38;5;241;43m.\u001b[39;49m\u001b[43mreadStream\u001b[49m\u001b[38;5;241;43m.\u001b[39;49m\u001b[43mtext\u001b[49m\u001b[43m(\u001b[49m\u001b[38;5;124;43m\"\u001b[39;49m\u001b[38;5;124;43mdata\u001b[39;49m\u001b[38;5;124;43m\"\u001b[39;49m\u001b[43m,\u001b[49m\u001b[43m \u001b[49m\u001b[43mmaxFileAge\u001b[49m\u001b[43m \u001b[49m\u001b[38;5;241;43m=\u001b[39;49m\u001b[43m \u001b[49m\u001b[38;5;241;43m1\u001b[39;49m\u001b[43m)\u001b[49m\n\u001b[1;32m      2\u001b[0m lines\u001b[38;5;241m.\u001b[39misStreaming\n",
      "\u001b[0;31mTypeError\u001b[0m: text() got an unexpected keyword argument 'maxFileAge'"
     ]
    }
   ],
   "source": [
    "lines = spark.readStream.text(\"data\")\n",
    "lines.isStreaming"
   ]
  },
  {
   "cell_type": "code",
   "execution_count": 38,
   "metadata": {},
   "outputs": [],
   "source": [
    "regex = \"^[0-9]{1,2}\\\\/[0-9]{1,2}\\\\/[0-9]{2} [0-9]{1,2}\\:[0-9]{1,2}\\:[0-9]{2} [A-Z]{4,5} \"\n",
    "lines = lines.filter(lines[\"value\"].rlike(regex))"
   ]
  },
  {
   "cell_type": "code",
   "execution_count": 39,
   "metadata": {},
   "outputs": [],
   "source": [
    "from pyspark.sql.functions import split, explode\n",
    "df_with_log_and_class = lines.withColumn(\"level\", split(lines['value'], ' ').getItem(2)) \\\n",
    "                        .withColumn('className', split(lines[\"value\"], \" \").getItem(3)) \\\n",
    "                        .withColumn('date', split(lines[\"value\"], \" \").getItem(0)) \\\n",
    "                        .drop('value')\n",
    "# df_with_log_and_class.show(2)"
   ]
  },
  {
   "cell_type": "code",
   "execution_count": 40,
   "metadata": {},
   "outputs": [
    {
     "name": "stdout",
     "output_type": "stream",
     "text": [
      "root\n",
      " |-- level: string (nullable = true)\n",
      " |-- className: string (nullable = true)\n",
      " |-- date: string (nullable = true)\n",
      "\n"
     ]
    }
   ],
   "source": [
    "df_with_log_and_class.printSchema()"
   ]
  },
  {
   "cell_type": "code",
   "execution_count": 41,
   "metadata": {},
   "outputs": [],
   "source": [
    "df_with_log_and_class.createOrReplaceTempView(\"df1_view\")\n",
    "# result = spark.sql(\"select level,className,count(level) from df1_view   group by className, level order by count(level) \")\n",
    "result = spark.sql(\"select * from df1_view\")"
   ]
  },
  {
   "cell_type": "code",
   "execution_count": null,
   "metadata": {},
   "outputs": [
    {
     "name": "stdout",
     "output_type": "stream",
     "text": [
      "23/01/17 12:44:00 WARN ResolveWriteToStream: Temporary checkpoint location created which is deleted normally when the query didn't fail: /tmp/temporary-23832275-6f46-432a-aeae-f14361940d29. If it's required to delete it under any circumstances, please set spark.sql.streaming.forceDeleteTempCheckpointLocation to true. Important to know deleting temp checkpoint folder is best effort.\n",
      "23/01/17 12:44:00 WARN ResolveWriteToStream: spark.sql.adaptive.enabled is not supported in streaming DataFrames/Datasets and will be disabled.\n",
      "-------------------------------------------\n",
      "Batch: 0\n",
      "-------------------------------------------\n",
      "+-----+--------------------+--------+\n",
      "|level|           className|    date|\n",
      "+-----+--------------------+--------+\n",
      "| INFO|executor.CoarseGr...|17/06/09|\n",
      "| INFO|spark.SecurityMan...|17/06/09|\n",
      "| INFO|spark.SecurityMan...|17/06/09|\n",
      "| INFO|spark.SecurityMan...|17/06/09|\n",
      "| INFO|    saransh.saransh:|17/06/09|\n",
      "| INFO|    saransh.saransh:|17/06/09|\n",
      "| INFO|    saransh.saransh:|17/06/09|\n",
      "| INFO|    saransh.saransh:|17/06/09|\n",
      "| INFO|    saransh.saransh:|17/06/09|\n",
      "+-----+--------------------+--------+\n",
      "\n",
      "-------------------------------------------\n",
      "Batch: 1\n",
      "-------------------------------------------\n",
      "+-----+--------------------+--------+\n",
      "|level|           className|    date|\n",
      "+-----+--------------------+--------+\n",
      "|ERROR|python.PythonRunner:|17/06/09|\n",
      "|ERROR|python.PythonRunner:|17/06/09|\n",
      "|ERROR|python.PythonRunner:|17/06/09|\n",
      "|ERROR|python.PythonRunner:|17/06/09|\n",
      "|ERROR|python.PythonRunner:|17/06/09|\n",
      "|ERROR|  executor.Executor:|17/06/09|\n",
      "|ERROR|  executor.Executor:|17/06/09|\n",
      "|ERROR|  executor.Executor:|17/06/09|\n",
      "|ERROR|  executor.Executor:|17/06/09|\n",
      "|ERROR|  executor.Executor:|17/06/09|\n",
      "|ERROR|executor.CoarseGr...|17/06/09|\n",
      "|ERROR|  executor.Executor:|17/06/09|\n",
      "|ERROR|executor.CoarseGr...|17/06/09|\n",
      "|ERROR|  executor.Executor:|17/06/09|\n",
      "|ERROR|executor.CoarseGr...|17/06/09|\n",
      "|ERROR|  executor.Executor:|17/06/09|\n",
      "|ERROR|broadcast.Torrent...|17/06/09|\n",
      "+-----+--------------------+--------+\n",
      "\n",
      "-------------------------------------------\n",
      "Batch: 3\n",
      "-------------------------------------------\n",
      "-------------------------------------------\n",
      "Batch: 2\n",
      "-------------------------------------------\n",
      "-------------------------------------------\n",
      "Batch: 1\n",
      "-------------------------------------------\n",
      "+-----+--------------------+--------+\n",
      "|level|           className|    date|\n",
      "+-----+--------------------+--------+\n",
      "|ERROR|python.PythonRunner:|17/06/09|\n",
      "|ERROR|python.PythonRunner:|17/06/09|\n",
      "|ERROR|python.PythonRunner:|17/06/09|\n",
      "|ERROR|python.PythonRunner:|17/06/09|\n",
      "|ERROR|python.PythonRunner:|17/06/09|\n",
      "|ERROR|  executor.Executor:|17/06/09|\n",
      "|ERROR|  executor.Executor:|17/06/09|\n",
      "|ERROR|  executor.Executor:|17/06/09|\n",
      "|ERROR|  executor.Executor:|17/06/09|\n",
      "|ERROR|  executor.Executor:|17/06/09|\n",
      "|ERROR|executor.CoarseGr...|17/06/09|\n",
      "|ERROR|  executor.Executor:|17/06/09|\n",
      "|ERROR|executor.CoarseGr...|17/06/09|\n",
      "|ERROR|  executor.Executor:|17/06/09|\n",
      "|ERROR|executor.CoarseGr...|17/06/09|\n",
      "|ERROR|  executor.Executor:|17/06/09|\n",
      "|ERROR|broadcast.Torrent...|17/06/09|\n",
      "+-----+--------------------+--------+\n",
      "\n",
      "+-----+--------------------+--------+\n",
      "|level|           className|    date|\n",
      "+-----+--------------------+--------+\n",
      "|ERROR|python.PythonRunner:|17/06/09|\n",
      "|ERROR|python.PythonRunner:|17/06/09|\n",
      "|ERROR|python.PythonRunner:|17/06/09|\n",
      "|ERROR|python.PythonRunner:|17/06/09|\n",
      "|ERROR|python.PythonRunner:|17/06/09|\n",
      "|ERROR|  executor.Executor:|17/06/09|\n",
      "|ERROR|  executor.Executor:|17/06/09|\n",
      "|ERROR|  executor.Executor:|17/06/09|\n",
      "|ERROR|  executor.Executor:|17/06/09|\n",
      "|ERROR|  executor.Executor:|17/06/09|\n",
      "|ERROR|executor.CoarseGr...|17/06/09|\n",
      "|ERROR|  executor.Executor:|17/06/09|\n",
      "|ERROR|executor.CoarseGr...|17/06/09|\n",
      "|ERROR|  executor.Executor:|17/06/09|\n",
      "|ERROR|executor.CoarseGr...|17/06/09|\n",
      "|ERROR|  executor.Executor:|17/06/09|\n",
      "|ERROR|broadcast.Torrent...|17/06/09|\n",
      "+-----+--------------------+--------+\n",
      "\n",
      "+-----+--------------------+--------+\n",
      "|level|           className|    date|\n",
      "+-----+--------------------+--------+\n",
      "|ERROR|python.PythonRunner:|17/06/09|\n",
      "|ERROR|python.PythonRunner:|17/06/09|\n",
      "|ERROR|python.PythonRunner:|17/06/09|\n",
      "|ERROR|python.PythonRunner:|17/06/09|\n",
      "|ERROR|python.PythonRunner:|17/06/09|\n",
      "|ERROR|  executor.Executor:|17/06/09|\n",
      "|ERROR|  executor.Executor:|17/06/09|\n",
      "|ERROR|  executor.Executor:|17/06/09|\n",
      "|ERROR|  executor.Executor:|17/06/09|\n",
      "|ERROR|  executor.Executor:|17/06/09|\n",
      "|ERROR|executor.CoarseGr...|17/06/09|\n",
      "|ERROR|  executor.Executor:|17/06/09|\n",
      "|ERROR|executor.CoarseGr...|17/06/09|\n",
      "|ERROR|  executor.Executor:|17/06/09|\n",
      "|ERROR|executor.CoarseGr...|17/06/09|\n",
      "|ERROR|  executor.Executor:|17/06/09|\n",
      "|ERROR|broadcast.Torrent...|17/06/09|\n",
      "+-----+--------------------+--------+\n",
      "\n",
      "-------------------------------------------\n",
      "Batch: 2\n",
      "-------------------------------------------\n",
      "+-----+--------------------+--------+\n",
      "|level|           className|    date|\n",
      "+-----+--------------------+--------+\n",
      "|ERROR|python.PythonRunner:|17/06/09|\n",
      "|ERROR|python.PythonRunner:|17/06/09|\n",
      "|ERROR|python.PythonRunner:|17/06/09|\n",
      "|ERROR|python.PythonRunner:|17/06/09|\n",
      "|ERROR|python.PythonRunner:|17/06/09|\n",
      "|ERROR|  executor.Executor:|17/06/09|\n",
      "|ERROR|  executor.Executor:|17/06/09|\n",
      "|ERROR|  executor.Executor:|17/06/09|\n",
      "|ERROR|  executor.Executor:|17/06/09|\n",
      "|ERROR|  executor.Executor:|17/06/09|\n",
      "|ERROR|executor.CoarseGr...|17/06/09|\n",
      "|ERROR|  executor.Executor:|17/06/09|\n",
      "|ERROR|executor.CoarseGr...|17/06/09|\n",
      "|ERROR|  executor.Executor:|17/06/09|\n",
      "|ERROR|executor.CoarseGr...|17/06/09|\n",
      "|ERROR|  executor.Executor:|17/06/09|\n",
      "|ERROR|broadcast.Torrent...|17/06/09|\n",
      "+-----+--------------------+--------+\n",
      "\n"
     ]
    }
   ],
   "source": [
    "result.writeStream.format(\"console\").outputMode(\"append\").start().awaitTermination()"
   ]
  }
 ],
 "metadata": {
  "kernelspec": {
   "display_name": "Python 3 (ipykernel)",
   "language": "python",
   "name": "python3"
  },
  "language_info": {
   "codemirror_mode": {
    "name": "ipython",
    "version": 3
   },
   "file_extension": ".py",
   "mimetype": "text/x-python",
   "name": "python",
   "nbconvert_exporter": "python",
   "pygments_lexer": "ipython3",
   "version": "3.9.12"
  }
 },
 "nbformat": 4,
 "nbformat_minor": 2
}
