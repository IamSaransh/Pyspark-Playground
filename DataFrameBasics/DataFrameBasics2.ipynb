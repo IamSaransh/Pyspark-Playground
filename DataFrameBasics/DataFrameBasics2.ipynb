{
 "cells": [
  {
   "cell_type": "code",
   "execution_count": 3,
   "id": "07d5f2c0",
   "metadata": {},
   "outputs": [],
   "source": [
    "from pyspark.sql import SparkSession\n",
    "import collections\n"
   ]
  },
  {
   "cell_type": "code",
   "execution_count": 11,
   "id": "95eb139e",
   "metadata": {},
   "outputs": [],
   "source": [
    "spark = SparkSession.builder.appName(\"DataFrameBasics2\").getOrCreate()\n"
   ]
  },
  {
   "cell_type": "code",
   "execution_count": 15,
   "id": "434c73c4",
   "metadata": {},
   "outputs": [
    {
     "data": {
      "text/plain": [
       "[Row(Date=datetime.datetime(2010, 1, 4, 0, 0), Open=213.429998, High=214.499996, Low=212.38000099999996, Close=214.009998, Volume=123432400, Adj Close=27.727039)]"
      ]
     },
     "execution_count": 15,
     "metadata": {},
     "output_type": "execute_result"
    }
   ],
   "source": [
    "df = spark.read.csv('../sample-data/Spark_DataFrames/appl_stock.csv', inferSchema=True, header=True)\n",
    "df.head(1)"
   ]
  },
  {
   "cell_type": "code",
   "execution_count": 22,
   "id": "01941cc7",
   "metadata": {},
   "outputs": [
    {
     "name": "stdout",
     "output_type": "stream",
     "text": [
      "+----------+----------+\n",
      "|      open|     close|\n",
      "+----------+----------+\n",
      "|213.429998|214.009998|\n",
      "+----------+----------+\n",
      "only showing top 1 row\n",
      "\n",
      "+----------+----------+\n",
      "|      open|     close|\n",
      "+----------+----------+\n",
      "|213.429998|214.009998|\n",
      "+----------+----------+\n",
      "only showing top 1 row\n",
      "\n",
      "+----------+----------+\n",
      "|      open|     close|\n",
      "+----------+----------+\n",
      "|213.429998|214.009998|\n",
      "+----------+----------+\n",
      "only showing top 1 row\n",
      "\n"
     ]
    }
   ],
   "source": [
    "#use the sql syntex\n",
    "df.filter(\"Close < 500\").select(['open', 'close']).show(1)\n",
    "#or use python syntex\n",
    "df.filter(df['Close']<500).select(['open', 'close']).show(1)\n",
    "##\n",
    "df.filter(df.Close<500).select(['open', 'close']).show(1)"
   ]
  },
  {
   "cell_type": "code",
   "execution_count": 25,
   "id": "f53d5918",
   "metadata": {},
   "outputs": [
    {
     "name": "stdout",
     "output_type": "stream",
     "text": [
      "+-------------------+------------------+-----+------------------+----------+---------+---------+\n",
      "|               Date|              Open| High|               Low|     Close|   Volume|Adj Close|\n",
      "+-------------------+------------------+-----+------------------+----------+---------+---------+\n",
      "|2010-02-01 00:00:00|192.36999699999998|196.0|191.29999899999999|194.729998|187469100|25.229131|\n",
      "+-------------------+------------------+-----+------------------+----------+---------+---------+\n",
      "only showing top 1 row\n",
      "\n"
     ]
    }
   ],
   "source": [
    "df.filter( (df.Close<500) & (df.Open < 200)).show(1)\n",
    "# & == and\n",
    "# - ==  NOT\n",
    "# | == OR\n"
   ]
  },
  {
   "cell_type": "code",
   "execution_count": 35,
   "id": "d0d9ffa4",
   "metadata": {},
   "outputs": [],
   "source": [
    "result = df.filter(df.Low == 197.16).collect()"
   ]
  },
  {
   "cell_type": "code",
   "execution_count": 37,
   "id": "72bd81ad",
   "metadata": {},
   "outputs": [
    {
     "data": {
      "text/plain": [
       "list"
      ]
     },
     "execution_count": 37,
     "metadata": {},
     "output_type": "execute_result"
    }
   ],
   "source": [
    "type(result)"
   ]
  },
  {
   "cell_type": "code",
   "execution_count": 38,
   "id": "df8aa055",
   "metadata": {},
   "outputs": [],
   "source": [
    "row = result[0]"
   ]
  },
  {
   "cell_type": "code",
   "execution_count": 39,
   "id": "3c38c94f",
   "metadata": {},
   "outputs": [
    {
     "data": {
      "text/plain": [
       "{'Date': datetime.datetime(2010, 1, 22, 0, 0),\n",
       " 'Open': 206.78000600000001,\n",
       " 'High': 207.499996,\n",
       " 'Low': 197.16,\n",
       " 'Close': 197.75,\n",
       " 'Volume': 220441900,\n",
       " 'Adj Close': 25.620401}"
      ]
     },
     "execution_count": 39,
     "metadata": {},
     "output_type": "execute_result"
    },
    {
     "name": "stdout",
     "output_type": "stream",
     "text": [
      "23/01/15 20:22:54 WARN HeartbeatReceiver: Removing executor driver with no recent heartbeats: 4145849 ms exceeds timeout 120000 ms\n",
      "23/01/15 20:22:54 WARN SparkContext: Killing executors is not supported by current scheduler.\n"
     ]
    }
   ],
   "source": [
    "row.asDict()"
   ]
  }
 ],
 "metadata": {
  "kernelspec": {
   "display_name": "Python 3 (ipykernel)",
   "language": "python",
   "name": "python3"
  },
  "language_info": {
   "codemirror_mode": {
    "name": "ipython",
    "version": 3
   },
   "file_extension": ".py",
   "mimetype": "text/x-python",
   "name": "python",
   "nbconvert_exporter": "python",
   "pygments_lexer": "ipython3",
   "version": "3.9.12"
  },
  "vscode": {
   "interpreter": {
    "hash": "0b882bd83879309fc3013d188e4f06c3f17c0a44248feab41e905eb52df4478b"
   }
  }
 },
 "nbformat": 4,
 "nbformat_minor": 5
}
